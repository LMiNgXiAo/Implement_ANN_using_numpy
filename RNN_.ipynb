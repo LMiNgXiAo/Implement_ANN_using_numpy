{
 "cells": [
  {
   "cell_type": "code",
   "execution_count": 1,
   "metadata": {},
   "outputs": [],
   "source": [
    "import numpy as np"
   ]
  },
  {
   "cell_type": "code",
   "execution_count": 2,
   "metadata": {},
   "outputs": [],
   "source": [
    "def softmax(x):\n",
    "    e_x = np.exp(x-np.max(x))\n",
    "    return e_x/e_x.sum(axis=0)"
   ]
  },
  {
   "cell_type": "code",
   "execution_count": 6,
   "metadata": {},
   "outputs": [],
   "source": [
    "def sigmoid(x):\n",
    "    return 1/(1+np.exp(-x))"
   ]
  },
  {
   "cell_type": "markdown",
   "metadata": {},
   "source": [
    "![title](Rnn_forward.png)"
   ]
  },
  {
   "cell_type": "code",
   "execution_count": 7,
   "metadata": {},
   "outputs": [],
   "source": [
    "def rnn_cell_forward(xt, a_prev, parameters):\n",
    "    \"\"\" Implements a single forward step of the RNN-CELL\n",
    "        xt(x^<t>): Input data at time step 't'. shape=(n_x,m) \n",
    "        a_prev(a^<t-1>): hidden state at time step 't-1'. shape=(n_a,m)\n",
    "    \"\"\"\n",
    "    \n",
    "    #Retrieve parameters from 'parameters' list\n",
    "    #Wax: Weight matrix multiplying the input. shape=(n_a,n_x)\n",
    "    #Waa: Weight matrix multiplying the hidden state. shape=(n_a,n_a)\n",
    "    #Wya: Weight matrix relating the hidden-state to the output. shape=(n_y,n_a)\n",
    "    #ba: Bias. shape=(n_a,1)\n",
    "    #by: Bias. shape=(n_y,1)\n",
    "    \n",
    "    Wax = parameters['Wax']\n",
    "    Waa = parameters['Waa']\n",
    "    Wya = parameters['Wya']\n",
    "    ba = parameters['ba']\n",
    "    by = parameters['by']\n",
    "    \n",
    "    #Compute next activation (a^<t>)\n",
    "    #a= tanh([Waa,Wax][\\frac{a_prev}{xt}]+ba)\n",
    "    a_next = np.tanh(np.dot(np.concatenate((Waa,Wax),axis=1),np.concatenate((a_prev,xt),axis=0))+ba)\n",
    "    # compute output of this cell\n",
    "    # y = softmax(np.dot(Wy,a)+by)\n",
    "    yt_pred = softmax(np.dot(Wya,a_next)+by)\n",
    "    \n",
    "    cache = (a_next, a_prev, xt, parameters)\n",
    "    \n",
    "    return a_next,yt_pred,cache"
   ]
  },
  {
   "cell_type": "markdown",
   "metadata": {},
   "source": [
    "![title](Rnn_forward2.png)"
   ]
  },
  {
   "cell_type": "code",
   "execution_count": 13,
   "metadata": {},
   "outputs": [],
   "source": [
    "def rnn_forward(x, a0, parameters):\n",
    "    \"\"\"\n",
    "    Implement the forward propagation of the recurrent neural network.\n",
    "    x: Input data for every time-step. shape=(n_x,m,T_x)\n",
    "    a0: Initial hidden state. shape=(n_a,m)\n",
    "    \n",
    "    Returns:\n",
    "    a: Hidden states for every time-step. shape=(n_a,m,T_x)\n",
    "    y_pred: Predictions for every time-step. shape=(n_y,m,T_x)\n",
    "    caches: tuple of values needed for the backward pass, contains (list of caches,x)\n",
    "    \"\"\"\n",
    "    \n",
    "    #Initialize 'caches' which will contain the list of all caches\n",
    "    caches = []\n",
    "    \n",
    "    #Retrieve dimensions from shapes of x and patameters['Wya']\n",
    "    n_x, m ,T_x = x.shape\n",
    "    n_y, n_a = parameters['Wya'].shape\n",
    "    \n",
    "    #Initialize 'a' and 'y' with zeros\n",
    "    a = np.zeros((n_a,m,T_x))\n",
    "    y_pred = np.zeros((n_y,m,T_x))\n",
    "    \n",
    "    a_next = a0\n",
    "    \n",
    "    #loop over all time-steps\n",
    "    for t in range(T_x):\n",
    "        a_next, yt_pred, cache = rnn_cell_forward(x[:,:,t],a_next,parameters)\n",
    "        a[:,:,t]=a_next\n",
    "        y_pred[:,:,t]=yt_pred\n",
    "        caches.append(cache)\n",
    "    caches = (caches, x)\n",
    "    return a,y_pred,caches"
   ]
  },
  {
   "cell_type": "code",
   "execution_count": 14,
   "metadata": {},
   "outputs": [
    {
     "name": "stdout",
     "output_type": "stream",
     "text": [
      "a[4][1] =  [-0.99999375  0.77911235 -0.99861469 -0.99833267]\n",
      "a.shape =  (5, 10, 4)\n",
      "y_pred[1][3] = [0.79560373 0.86224861 0.11118257 0.81515947]\n",
      "y_pred.shape =  (2, 10, 4)\n",
      "caches[1][1][3] = [-1.1425182  -0.34934272 -0.20889423  0.58662319]\n",
      "len(caches) =  2\n"
     ]
    }
   ],
   "source": [
    "np.random.seed(1)\n",
    "x = np.random.randn(3,10,4)\n",
    "a0 = np.random.randn(5,10)\n",
    "Waa = np.random.randn(5,5)\n",
    "Wax = np.random.randn(5,3)\n",
    "Wya = np.random.randn(2,5)\n",
    "ba = np.random.randn(5,1)\n",
    "by = np.random.randn(2,1)\n",
    "parameters = {\"Waa\": Waa, \"Wax\": Wax, \"Wya\": Wya, \"ba\": ba, \"by\": by}\n",
    "\n",
    "a, y_pred, caches = rnn_forward(x, a0, parameters)\n",
    "print(\"a[4][1] = \", a[4][1])\n",
    "print(\"a.shape = \", a.shape)\n",
    "print(\"y_pred[1][3] =\", y_pred[1][3])\n",
    "print(\"y_pred.shape = \", y_pred.shape)\n",
    "print(\"caches[1][1][3] =\", caches[1][1][3])\n",
    "print(\"len(caches) = \", len(caches))"
   ]
  },
  {
   "cell_type": "markdown",
   "metadata": {},
   "source": [
    "![title](Rnn_backward.png)"
   ]
  },
  {
   "cell_type": "code",
   "execution_count": 16,
   "metadata": {},
   "outputs": [],
   "source": [
    "def rnn_cell_backward(da_next, cache):\n",
    "    \"\"\"\n",
    "    Implements the backward pass for the RNN-cell (single time-step)\n",
    "    \n",
    "    da_next: Gradient of loss with respect to next hidden state dJ/da\n",
    "    cache: output of rnn_forward() containing (caches,x) in which the caches is the \n",
    "            output of rnn_cell_forward() containing (a_next,a_pre,xt,parameters)\n",
    "            \n",
    "    Returns:\n",
    "    gradients: python dictionary containing:\n",
    "                      dx:Gradients of input data, of shape (n_x,m)\n",
    "                      da_prev:Gradients of previous hidden state, of shape (n_a,m)\n",
    "                      dWax:Gradients of input-to-hidden weights, of shape (n_a,n_x)\n",
    "                      dWaa:Gradients of hidden-to-hidden weights, of shape (n_a,n_a)\n",
    "                      dba:Gtadients of bias vector, of shape (n_a,1)\n",
    "     \"\"\"\n",
    "    #Retrieve values from the first cache(t=1) of caches\n",
    "    (a_next, a_prev, xt, parameters) = cache\n",
    "    \n",
    "    \n",
    "    #Retrieve values from parameters\n",
    "    Wax = parameters['Wax']\n",
    "    Waa = parameters['Waa']\n",
    "    Wya = parameters['Wya']\n",
    "    ba = parameters['ba']\n",
    "    by = parameters['by']\n",
    "    \n",
    "    #compute the gradient of tanh with respect to a_next\n",
    "    dtanh = (1-a_next**2)*da_next\n",
    "    \n",
    "    dxt = np.dot(Wax.T,dtanh)\n",
    "    dWax = np.dot(dtanh,xt.T)\n",
    "    da_prev = np.dot(Waa.T,dtanh)\n",
    "    dWaa = np.dot(dtanh,a_prev.T)\n",
    "    \n",
    "    dba = np.sum(dtanh,keepdims=True,axis=-1)\n",
    "    \n",
    "    gradients={'dxt':dxt,'da_prev':da_prev,'dWax':dWax,'dWaa':dWaa,'dba':dba}\n",
    "    return gradients   "
   ]
  },
  {
   "cell_type": "code",
   "execution_count": 26,
   "metadata": {},
   "outputs": [],
   "source": [
    "def rnn_backward(da,caches):\n",
    "    \"\"\"\n",
    "    Implement the backward pass for a RNN over the entire sequence of input data.\n",
    "    \n",
    "    da: Upstream gradients of all hidden states, of shape (n_a,m,T_x)\n",
    "    caches: tuple containing information from the forward pass (rnn_forward (a,y_pred,caches()))\n",
    "    \n",
    "    Returns:\n",
    "    gradients:python dictionary containing:\n",
    "              dx: Gradient of the input data, numpy-array of shape (n_x, m, T_x)\n",
    "              da0: Gradient of the initial hidden state, numpy-array of shape (n_a, m)\n",
    "              dWax: Gradient of the input's weight matrix, numpy-array of shape (n_a, n_x)\n",
    "              dWaa: Gradient of the hidden state's weight matrix, numpy-arrayof shape (n_a, n_a)\n",
    "              dba: Gradient of the bias, of shape (n_a, 1)\n",
    "    \"\"\"\n",
    "    (caches,x) = caches\n",
    "    (a1,a0,x1,parameters) = caches[0]\n",
    "    \n",
    "    #Retrieve dimensions from da's and x1's shapes\n",
    "    n_a, m, T_x = da.shape\n",
    "    n_x, m = x1.shape\n",
    "    \n",
    "    #initialize the gradients with the right size\n",
    "    dx = np.zeros((n_x,m,T_x))\n",
    "    dWax = np.zeros((n_a,n_x))\n",
    "    dWaa = np.zeros((n_a,n_a))\n",
    "    dba = np.zeros((n_a,1))\n",
    "    da0 = np.zeros((n_a,m))\n",
    "    da_prevt = np.zeros((n_a,m))\n",
    "    \n",
    "    #Loop through all the time steps\n",
    "    for t in reversed(range(T_x)):\n",
    "        gradients = rnn_cell_backward(da[:,:,t]+da_prevt,caches[t])\n",
    "        dxt,da_prevt,dWaxt,dWaat,dbat = gradients['dxt'],gradients['da_prev'],gradients['dWax'],gradients['dWaa'],  gradients['dba']\n",
    "        dx[:,:,t] = dxt\n",
    "        dWax += dWaxt \n",
    "        dWaa += dWaat\n",
    "        dba += dbat\n",
    "    da0=da_prevt\n",
    "    \n",
    "    gradients={'dx':dx,'da0':da0,'dWax':dWax,'dWaa':dWaa,'dba':dba}\n",
    "    return gradients"
   ]
  },
  {
   "cell_type": "code",
   "execution_count": 28,
   "metadata": {},
   "outputs": [
    {
     "name": "stdout",
     "output_type": "stream",
     "text": [
      "gradients[\"dx\"][1][2] = [-2.07101689 -0.59255627  0.02466855  0.01483317]\n",
      "gradients[\"dx\"].shape = (3, 10, 4)\n",
      "gradients[\"da0\"][2][3] = -0.31494237512664985\n",
      "gradients[\"da0\"].shape = (5, 10)\n",
      "gradients[\"dWax\"][3][1] = 11.264104496527777\n",
      "gradients[\"dWax\"].shape = (5, 3)\n",
      "gradients[\"dWaa\"][1][2] = 2.3033331265798935\n",
      "gradients[\"dWaa\"].shape = (5, 5)\n",
      "gradients[\"dba\"][4] = [-0.74747722]\n",
      "gradients[\"dba\"].shape = (5, 1)\n"
     ]
    }
   ],
   "source": [
    "np.random.seed(1)\n",
    "x = np.random.randn(3,10,4)\n",
    "a0 = np.random.randn(5,10)\n",
    "Wax = np.random.randn(5,3)\n",
    "Waa = np.random.randn(5,5)\n",
    "Wya = np.random.randn(2,5)\n",
    "ba = np.random.randn(5,1)\n",
    "by = np.random.randn(2,1)\n",
    "parameters = {\"Wax\": Wax, \"Waa\": Waa, \"Wya\": Wya, \"ba\": ba, \"by\": by}\n",
    "a, y, caches = rnn_forward(x, a0, parameters)\n",
    "da = np.random.randn(5, 10, 4)\n",
    "gradients = rnn_backward(da, caches)\n",
    "\n",
    "print(\"gradients[\\\"dx\\\"][1][2] =\", gradients[\"dx\"][1][2])\n",
    "print(\"gradients[\\\"dx\\\"].shape =\", gradients[\"dx\"].shape)\n",
    "print(\"gradients[\\\"da0\\\"][2][3] =\", gradients[\"da0\"][2][3])\n",
    "print(\"gradients[\\\"da0\\\"].shape =\", gradients[\"da0\"].shape)\n",
    "print(\"gradients[\\\"dWax\\\"][3][1] =\", gradients[\"dWax\"][3][1])\n",
    "print(\"gradients[\\\"dWax\\\"].shape =\", gradients[\"dWax\"].shape)\n",
    "print(\"gradients[\\\"dWaa\\\"][1][2] =\", gradients[\"dWaa\"][1][2])\n",
    "print(\"gradients[\\\"dWaa\\\"].shape =\", gradients[\"dWaa\"].shape)\n",
    "print(\"gradients[\\\"dba\\\"][4] =\", gradients[\"dba\"][4])\n",
    "print(\"gradients[\\\"dba\\\"].shape =\", gradients[\"dba\"].shape)\n"
   ]
  },
  {
   "cell_type": "code",
   "execution_count": null,
   "metadata": {},
   "outputs": [],
   "source": []
  }
 ],
 "metadata": {
  "kernelspec": {
   "display_name": "Python 3",
   "language": "python",
   "name": "python3"
  },
  "language_info": {
   "codemirror_mode": {
    "name": "ipython",
    "version": 3
   },
   "file_extension": ".py",
   "mimetype": "text/x-python",
   "name": "python",
   "nbconvert_exporter": "python",
   "pygments_lexer": "ipython3",
   "version": "3.6.5"
  }
 },
 "nbformat": 4,
 "nbformat_minor": 2
}
